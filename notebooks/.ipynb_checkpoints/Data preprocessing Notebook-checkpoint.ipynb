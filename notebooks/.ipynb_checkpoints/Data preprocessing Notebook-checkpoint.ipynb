{
 "cells": [
  {
   "cell_type": "code",
   "execution_count": 1,
   "metadata": {},
   "outputs": [],
   "source": [
    "import pandas as pd\n",
    "import os "
   ]
  },
  {
   "cell_type": "code",
   "execution_count": 2,
   "metadata": {},
   "outputs": [],
   "source": [
    "input_data_dir = os.getcwd()+\"\\..\\datasets\\\\\""
   ]
  },
  {
   "cell_type": "code",
   "execution_count": 5,
   "metadata": {},
   "outputs": [],
   "source": [
    "CA_df = pd.read_csv(input_data_dir + \"California_Agewise_Data.csv\")"
   ]
  },
  {
   "cell_type": "code",
   "execution_count": 6,
   "metadata": {},
   "outputs": [],
   "source": [
    "CA_df = CA_df.replace(to_replace=\"65 and Older\",value=\"65+\")"
   ]
  },
  {
   "cell_type": "code",
   "execution_count": 7,
   "metadata": {},
   "outputs": [],
   "source": [
    "CA_df['date']= pd.to_datetime(CA_df['date']) \n",
    "age_groups = list(set(CA_df['age_group'].values))\n",
    "age_groups.remove(\"Missing\")\n",
    "age_groups.remove(\"Unknown\")\n",
    "age_groups.sort()"
   ]
  },
  {
   "cell_type": "code",
   "execution_count": 8,
   "metadata": {},
   "outputs": [
    {
     "data": {
      "text/plain": [
       "['0-17', '18-49', '50-64', '65+']"
      ]
     },
     "execution_count": 8,
     "metadata": {},
     "output_type": "execute_result"
    }
   ],
   "source": [
    "age_groups"
   ]
  },
  {
   "cell_type": "code",
   "execution_count": 9,
   "metadata": {},
   "outputs": [
    {
     "name": "stdout",
     "output_type": "stream",
     "text": [
      "0-17 337\n",
      "18-49 337\n",
      "50-64 337\n",
      "65+ 337\n"
     ]
    }
   ],
   "source": [
    "count = 0\n",
    "for age_group in age_groups:\n",
    "    \n",
    "    CA_df_age_group = CA_df[CA_df['age_group'] == age_group]\n",
    "    CA_df_age_group = CA_df_age_group.drop(['age_group','deaths','case_percent','deaths_percent','ca_percent'],axis=1)\n",
    "    CA_df_age_group = CA_df_age_group.rename(columns={'totalpositive':'Infected_'+age_group})\n",
    "    CA_df_age_group.set_index('date', inplace=True)\n",
    "    \n",
    "    print(age_group,len(CA_df_age_group))\n",
    "    if(count==0):\n",
    "        CA_df_final = CA_df_age_group\n",
    "        count+=1\n",
    "    else:\n",
    "        CA_df_final = CA_df_final.merge(CA_df_age_group,on='date', how='outer')\n",
    "\n",
    "CA_df_final = CA_df_final.sort_values(by='date')\n",
    "CA_df_final.to_csv(input_data_dir+'California Agewise processed data.csv')\n",
    "CA_df_final = CA_df_final.reset_index().drop(['date'],axis=1)"
   ]
  },
  {
   "cell_type": "markdown",
   "metadata": {},
   "source": [
    "### Factor Calculation"
   ]
  },
  {
   "cell_type": "code",
   "execution_count": 10,
   "metadata": {},
   "outputs": [
    {
     "data": {
      "text/html": [
       "<div>\n",
       "<style scoped>\n",
       "    .dataframe tbody tr th:only-of-type {\n",
       "        vertical-align: middle;\n",
       "    }\n",
       "\n",
       "    .dataframe tbody tr th {\n",
       "        vertical-align: top;\n",
       "    }\n",
       "\n",
       "    .dataframe thead th {\n",
       "        text-align: right;\n",
       "    }\n",
       "</style>\n",
       "<table border=\"1\" class=\"dataframe\">\n",
       "  <thead>\n",
       "    <tr style=\"text-align: right;\">\n",
       "      <th></th>\n",
       "      <th>Infected_0-17</th>\n",
       "      <th>Infected_18-49</th>\n",
       "      <th>Infected_50-64</th>\n",
       "      <th>Infected_65+</th>\n",
       "    </tr>\n",
       "  </thead>\n",
       "  <tbody>\n",
       "    <tr>\n",
       "      <th>0</th>\n",
       "      <td>120</td>\n",
       "      <td>5302</td>\n",
       "      <td>2879</td>\n",
       "      <td>2342</td>\n",
       "    </tr>\n",
       "    <tr>\n",
       "      <th>1</th>\n",
       "      <td>137</td>\n",
       "      <td>5917</td>\n",
       "      <td>3253</td>\n",
       "      <td>2660</td>\n",
       "    </tr>\n",
       "    <tr>\n",
       "      <th>2</th>\n",
       "      <td>160</td>\n",
       "      <td>6610</td>\n",
       "      <td>3653</td>\n",
       "      <td>2966</td>\n",
       "    </tr>\n",
       "    <tr>\n",
       "      <th>3</th>\n",
       "      <td>173</td>\n",
       "      <td>7099</td>\n",
       "      <td>3884</td>\n",
       "      <td>3129</td>\n",
       "    </tr>\n",
       "    <tr>\n",
       "      <th>4</th>\n",
       "      <td>197</td>\n",
       "      <td>7753</td>\n",
       "      <td>4344</td>\n",
       "      <td>3516</td>\n",
       "    </tr>\n",
       "    <tr>\n",
       "      <th>...</th>\n",
       "      <td>...</td>\n",
       "      <td>...</td>\n",
       "      <td>...</td>\n",
       "      <td>...</td>\n",
       "    </tr>\n",
       "    <tr>\n",
       "      <th>332</th>\n",
       "      <td>447354</td>\n",
       "      <td>1993740</td>\n",
       "      <td>664406</td>\n",
       "      <td>371427</td>\n",
       "    </tr>\n",
       "    <tr>\n",
       "      <th>333</th>\n",
       "      <td>447770</td>\n",
       "      <td>1995109</td>\n",
       "      <td>664879</td>\n",
       "      <td>371704</td>\n",
       "    </tr>\n",
       "    <tr>\n",
       "      <th>334</th>\n",
       "      <td>448193</td>\n",
       "      <td>1996925</td>\n",
       "      <td>665595</td>\n",
       "      <td>372106</td>\n",
       "    </tr>\n",
       "    <tr>\n",
       "      <th>335</th>\n",
       "      <td>448653</td>\n",
       "      <td>1998780</td>\n",
       "      <td>666332</td>\n",
       "      <td>372554</td>\n",
       "    </tr>\n",
       "    <tr>\n",
       "      <th>336</th>\n",
       "      <td>449313</td>\n",
       "      <td>2001313</td>\n",
       "      <td>667234</td>\n",
       "      <td>373112</td>\n",
       "    </tr>\n",
       "  </tbody>\n",
       "</table>\n",
       "<p>337 rows × 4 columns</p>\n",
       "</div>"
      ],
      "text/plain": [
       "     Infected_0-17  Infected_18-49  Infected_50-64  Infected_65+\n",
       "0              120            5302            2879          2342\n",
       "1              137            5917            3253          2660\n",
       "2              160            6610            3653          2966\n",
       "3              173            7099            3884          3129\n",
       "4              197            7753            4344          3516\n",
       "..             ...             ...             ...           ...\n",
       "332         447354         1993740          664406        371427\n",
       "333         447770         1995109          664879        371704\n",
       "334         448193         1996925          665595        372106\n",
       "335         448653         1998780          666332        372554\n",
       "336         449313         2001313          667234        373112\n",
       "\n",
       "[337 rows x 4 columns]"
      ]
     },
     "execution_count": 10,
     "metadata": {},
     "output_type": "execute_result"
    }
   ],
   "source": [
    "CA_df_final"
   ]
  },
  {
   "cell_type": "code",
   "execution_count": 11,
   "metadata": {},
   "outputs": [
    {
     "data": {
      "text/plain": [
       "0        10643\n",
       "1        11967\n",
       "2        13389\n",
       "3        14285\n",
       "4        15810\n",
       "        ...   \n",
       "332    3476927\n",
       "333    3479462\n",
       "334    3482819\n",
       "335    3486319\n",
       "336    3490972\n",
       "Length: 337, dtype: int64"
      ]
     },
     "execution_count": 11,
     "metadata": {},
     "output_type": "execute_result"
    }
   ],
   "source": [
    "CA_infected = CA_df_final.sum(axis=1)\n",
    "CA_infected"
   ]
  },
  {
   "cell_type": "code",
   "execution_count": 12,
   "metadata": {},
   "outputs": [
    {
     "data": {
      "text/plain": [
       "0      39501580\n",
       "1      39500256\n",
       "2      39498834\n",
       "3      39497938\n",
       "4      39496413\n",
       "         ...   \n",
       "332    36035296\n",
       "333    36032761\n",
       "334    36029404\n",
       "335    36025904\n",
       "336    36021251\n",
       "Length: 337, dtype: int64"
      ]
     },
     "execution_count": 12,
     "metadata": {},
     "output_type": "execute_result"
    }
   ],
   "source": [
    "pop_California = 39512223\n",
    "susceptible = pop_California - CA_infected\n",
    "susceptible"
   ]
  },
  {
   "cell_type": "code",
   "execution_count": 13,
   "metadata": {},
   "outputs": [],
   "source": [
    "CA_test_df = pd.read_csv(input_data_dir + \"\\California_statewide_testing.csv\")"
   ]
  },
  {
   "cell_type": "code",
   "execution_count": 14,
   "metadata": {},
   "outputs": [],
   "source": [
    "CA_test_df = CA_test_df.rolling(window = 7).mean()\n",
    "\n",
    "CA_test_series = CA_test_df[-len(susceptible):].reset_index().drop(columns = ['index'])['tested']"
   ]
  },
  {
   "cell_type": "code",
   "execution_count": 15,
   "metadata": {},
   "outputs": [
    {
     "data": {
      "text/plain": [
       "0      2.954457e+04\n",
       "1      4.218671e+04\n",
       "2      5.506486e+04\n",
       "3      6.969943e+04\n",
       "4      8.605200e+04\n",
       "           ...     \n",
       "332    4.805379e+07\n",
       "333    4.825148e+07\n",
       "334    4.844804e+07\n",
       "335    4.863854e+07\n",
       "336    4.882410e+07\n",
       "Name: tested, Length: 337, dtype: float64"
      ]
     },
     "execution_count": 15,
     "metadata": {},
     "output_type": "execute_result"
    }
   ],
   "source": [
    "CA_test_series"
   ]
  },
  {
   "cell_type": "code",
   "execution_count": 16,
   "metadata": {},
   "outputs": [
    {
     "data": {
      "text/plain": [
       "0      1337.016517\n",
       "1       936.319803\n",
       "2       717.314746\n",
       "3       566.689553\n",
       "4       458.983092\n",
       "          ...     \n",
       "332       0.749895\n",
       "333       0.746770\n",
       "334       0.743671\n",
       "335       0.740686\n",
       "336       0.737776\n",
       "Length: 337, dtype: float64"
      ]
     },
     "execution_count": 16,
     "metadata": {},
     "output_type": "execute_result"
    }
   ],
   "source": [
    "susceptible/CA_test_series"
   ]
  },
  {
   "cell_type": "code",
   "execution_count": null,
   "metadata": {},
   "outputs": [],
   "source": []
  }
 ],
 "metadata": {
  "kernelspec": {
   "display_name": "Python 3",
   "language": "python",
   "name": "python3"
  },
  "language_info": {
   "codemirror_mode": {
    "name": "ipython",
    "version": 3
   },
   "file_extension": ".py",
   "mimetype": "text/x-python",
   "name": "python",
   "nbconvert_exporter": "python",
   "pygments_lexer": "ipython3",
   "version": "3.7.4"
  }
 },
 "nbformat": 4,
 "nbformat_minor": 4
}
