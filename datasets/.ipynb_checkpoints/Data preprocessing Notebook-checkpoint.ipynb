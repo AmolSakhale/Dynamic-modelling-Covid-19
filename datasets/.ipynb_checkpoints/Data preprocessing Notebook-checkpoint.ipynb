{
 "cells": [
  {
   "cell_type": "code",
   "execution_count": 10,
   "metadata": {},
   "outputs": [],
   "source": [
    "import pandas as pd\n",
    "import os "
   ]
  },
  {
   "cell_type": "code",
   "execution_count": 12,
   "metadata": {},
   "outputs": [],
   "source": [
    "input_data_dir = os.getcwd()"
   ]
  },
  {
   "cell_type": "code",
   "execution_count": 241,
   "metadata": {},
   "outputs": [
    {
     "name": "stdout",
     "output_type": "stream",
     "text": [
      "157\n",
      "177\n",
      "181\n",
      "174\n",
      "182\n",
      "180\n",
      "176\n",
      "185\n"
     ]
    },
    {
     "data": {
      "text/plain": [
       "185"
      ]
     },
     "execution_count": 241,
     "metadata": {},
     "output_type": "execute_result"
    }
   ],
   "source": [
    "\n",
    "sf_df = pd.read_csv(input_data_dir+'San Francisco COVID-19_Cases_Summarized_by_Age_Group.csv')\n",
    "\n",
    "age_groups = set(sf_df['Age Group'].values)\n",
    "\n",
    "count = 0\n",
    "for age_group in age_groups:\n",
    "    \n",
    "    sf_fd_age_group = sf_df[sf_df['Age Group'] == age_group]\n",
    "    sf_fd_age_group = sf_fd_age_group.drop(['Age Group','Last Updated at'],axis=1)\n",
    "    sf_fd_age_group = sf_fd_age_group.rename(columns={'New Confirmed Cases':'I'+age_group,\\\n",
    "                                                      'Cumulative Confirmed Cases':'CI'+age_group})\n",
    "    print(len(sf_fd_age_group))\n",
    "    if(count==0):\n",
    "        sf_df_final = sf_fd_age_group\n",
    "        count+=1\n",
    "    else:\n",
    "        sf_df_final = sf_df_final.merge(sf_fd_age_group,on='Specimen Collection Date', how='outer')\n",
    "\n",
    "sf_df_final['Specimen Collection Date']= pd.to_datetime(sf_df_final['Specimen Collection Date']) \n",
    "\n",
    "sf_df_final = sf_df_final.sort_values(by='Specimen Collection Date')\n",
    "\n",
    "sf_df_final.to_csv(input_data_dir+'San Francisco Age wise data1.csv')\n",
    "\n",
    "len(sf_df_final)\n"
   ]
  },
  {
   "cell_type": "code",
   "execution_count": 18,
   "metadata": {},
   "outputs": [],
   "source": [
    "CA_df = pd.read_csv(input_data_dir + \"\\California_Agewise_Data.csv\")"
   ]
  },
  {
   "cell_type": "code",
   "execution_count": 19,
   "metadata": {},
   "outputs": [],
   "source": [
    "CA_df = CA_df.replace(to_replace=\"65 and Older\",value=\"65+\")"
   ]
  },
  {
   "cell_type": "code",
   "execution_count": 21,
   "metadata": {},
   "outputs": [],
   "source": [
    "CA_df['date']= pd.to_datetime(CA_df['date']) \n",
    "age_groups = list(set(CA_df['age_group'].values))\n",
    "age_groups.remove(\"Missing\")\n",
    "age_groups.remove(\"Unknown\")\n",
    "age_groups.sort()"
   ]
  },
  {
   "cell_type": "code",
   "execution_count": 22,
   "metadata": {},
   "outputs": [
    {
     "data": {
      "text/plain": [
       "['0-17', '18-49', '50-64', '65+']"
      ]
     },
     "execution_count": 22,
     "metadata": {},
     "output_type": "execute_result"
    }
   ],
   "source": [
    "age_groups"
   ]
  },
  {
   "cell_type": "code",
   "execution_count": 23,
   "metadata": {},
   "outputs": [
    {
     "name": "stdout",
     "output_type": "stream",
     "text": [
      "0-17 337\n",
      "18-49 337\n",
      "50-64 337\n",
      "65+ 337\n"
     ]
    }
   ],
   "source": [
    "count = 0\n",
    "for age_group in age_groups:\n",
    "    \n",
    "    CA_df_age_group = CA_df[CA_df['age_group'] == age_group]\n",
    "    CA_df_age_group = CA_df_age_group.drop(['age_group','deaths','case_percent','deaths_percent','ca_percent'],axis=1)\n",
    "    CA_df_age_group = CA_df_age_group.rename(columns={'totalpositive':'Infected_'+age_group})\n",
    "    CA_df_age_group.set_index('date', inplace=True)\n",
    "    \n",
    "    print(age_group,len(CA_df_age_group))\n",
    "    if(count==0):\n",
    "        CA_df_final = CA_df_age_group\n",
    "        count+=1\n",
    "    else:\n",
    "        CA_df_final = CA_df_final.merge(CA_df_age_group,on='date', how='outer')\n",
    "\n",
    "\n",
    "\n",
    "CA_df_final = CA_df_final.sort_values(by='date')\n",
    "CA_df_final.to_csv(input_data_dir+'California Agewise processed data.csv')\n",
    "CA_df_final = CA_df_final.reset_index().drop(['date'],axis=1)"
   ]
  },
  {
   "cell_type": "markdown",
   "metadata": {},
   "source": [
    "### Factor Calculation"
   ]
  },
  {
   "cell_type": "code",
   "execution_count": 232,
   "metadata": {},
   "outputs": [
    {
     "data": {
      "text/html": [
       "<div>\n",
       "<style scoped>\n",
       "    .dataframe tbody tr th:only-of-type {\n",
       "        vertical-align: middle;\n",
       "    }\n",
       "\n",
       "    .dataframe tbody tr th {\n",
       "        vertical-align: top;\n",
       "    }\n",
       "\n",
       "    .dataframe thead th {\n",
       "        text-align: right;\n",
       "    }\n",
       "</style>\n",
       "<table border=\"1\" class=\"dataframe\">\n",
       "  <thead>\n",
       "    <tr style=\"text-align: right;\">\n",
       "      <th></th>\n",
       "      <th>Infected_0-17</th>\n",
       "      <th>Infected_50-64</th>\n",
       "      <th>Infected_65+</th>\n",
       "      <th>Infected_18-49</th>\n",
       "    </tr>\n",
       "  </thead>\n",
       "  <tbody>\n",
       "    <tr>\n",
       "      <th>0</th>\n",
       "      <td>120</td>\n",
       "      <td>2879</td>\n",
       "      <td>2342</td>\n",
       "      <td>5302</td>\n",
       "    </tr>\n",
       "    <tr>\n",
       "      <th>1</th>\n",
       "      <td>137</td>\n",
       "      <td>3253</td>\n",
       "      <td>2660</td>\n",
       "      <td>5917</td>\n",
       "    </tr>\n",
       "    <tr>\n",
       "      <th>2</th>\n",
       "      <td>160</td>\n",
       "      <td>3653</td>\n",
       "      <td>2966</td>\n",
       "      <td>6610</td>\n",
       "    </tr>\n",
       "    <tr>\n",
       "      <th>3</th>\n",
       "      <td>173</td>\n",
       "      <td>3884</td>\n",
       "      <td>3129</td>\n",
       "      <td>7099</td>\n",
       "    </tr>\n",
       "    <tr>\n",
       "      <th>4</th>\n",
       "      <td>197</td>\n",
       "      <td>4344</td>\n",
       "      <td>3516</td>\n",
       "      <td>7753</td>\n",
       "    </tr>\n",
       "    <tr>\n",
       "      <th>...</th>\n",
       "      <td>...</td>\n",
       "      <td>...</td>\n",
       "      <td>...</td>\n",
       "      <td>...</td>\n",
       "    </tr>\n",
       "    <tr>\n",
       "      <th>219</th>\n",
       "      <td>103975</td>\n",
       "      <td>181808</td>\n",
       "      <td>101922</td>\n",
       "      <td>576051</td>\n",
       "    </tr>\n",
       "    <tr>\n",
       "      <th>220</th>\n",
       "      <td>105005</td>\n",
       "      <td>183085</td>\n",
       "      <td>102592</td>\n",
       "      <td>580281</td>\n",
       "    </tr>\n",
       "    <tr>\n",
       "      <th>221</th>\n",
       "      <td>105792</td>\n",
       "      <td>184005</td>\n",
       "      <td>103063</td>\n",
       "      <td>583469</td>\n",
       "    </tr>\n",
       "    <tr>\n",
       "      <th>222</th>\n",
       "      <td>106693</td>\n",
       "      <td>185315</td>\n",
       "      <td>103745</td>\n",
       "      <td>588029</td>\n",
       "    </tr>\n",
       "    <tr>\n",
       "      <th>223</th>\n",
       "      <td>107582</td>\n",
       "      <td>186603</td>\n",
       "      <td>104403</td>\n",
       "      <td>592114</td>\n",
       "    </tr>\n",
       "  </tbody>\n",
       "</table>\n",
       "<p>224 rows × 4 columns</p>\n",
       "</div>"
      ],
      "text/plain": [
       "     Infected_0-17  Infected_50-64  Infected_65+  Infected_18-49\n",
       "0              120            2879          2342            5302\n",
       "1              137            3253          2660            5917\n",
       "2              160            3653          2966            6610\n",
       "3              173            3884          3129            7099\n",
       "4              197            4344          3516            7753\n",
       "..             ...             ...           ...             ...\n",
       "219         103975          181808        101922          576051\n",
       "220         105005          183085        102592          580281\n",
       "221         105792          184005        103063          583469\n",
       "222         106693          185315        103745          588029\n",
       "223         107582          186603        104403          592114\n",
       "\n",
       "[224 rows x 4 columns]"
      ]
     },
     "execution_count": 232,
     "metadata": {},
     "output_type": "execute_result"
    }
   ],
   "source": [
    "CA_df_final"
   ]
  },
  {
   "cell_type": "code",
   "execution_count": 233,
   "metadata": {},
   "outputs": [
    {
     "data": {
      "text/plain": [
       "0       10643\n",
       "1       11967\n",
       "2       13389\n",
       "3       14285\n",
       "4       15810\n",
       "        ...  \n",
       "219    963756\n",
       "220    970963\n",
       "221    976329\n",
       "222    983782\n",
       "223    990702\n",
       "Length: 224, dtype: int64"
      ]
     },
     "execution_count": 233,
     "metadata": {},
     "output_type": "execute_result"
    }
   ],
   "source": [
    "CA_infected = CA_df_final.sum(axis=1)\n",
    "CA_infected"
   ]
  },
  {
   "cell_type": "code",
   "execution_count": 234,
   "metadata": {},
   "outputs": [
    {
     "data": {
      "text/plain": [
       "0      39501580\n",
       "1      39500256\n",
       "2      39498834\n",
       "3      39497938\n",
       "4      39496413\n",
       "         ...   \n",
       "219    38548467\n",
       "220    38541260\n",
       "221    38535894\n",
       "222    38528441\n",
       "223    38521521\n",
       "Length: 224, dtype: int64"
      ]
     },
     "execution_count": 234,
     "metadata": {},
     "output_type": "execute_result"
    }
   ],
   "source": [
    "pop_California = 39512223\n",
    "susceptible = pop_California - CA_infected\n",
    "susceptible"
   ]
  },
  {
   "cell_type": "code",
   "execution_count": 235,
   "metadata": {},
   "outputs": [],
   "source": [
    "CA_test_df = pd.read_csv(input_data_dir + \"California_statewide_testing.csv\")"
   ]
  },
  {
   "cell_type": "code",
   "execution_count": 236,
   "metadata": {},
   "outputs": [],
   "source": [
    "CA_test_df = CA_test_df.rolling(window = 7).mean()\n",
    "\n",
    "CA_test_series = CA_test_df[-len(susceptible):].reset_index().drop(columns = ['index'])['tested']"
   ]
  },
  {
   "cell_type": "code",
   "execution_count": 237,
   "metadata": {},
   "outputs": [
    {
     "data": {
      "text/plain": [
       "0      2.954457e+04\n",
       "1      4.218671e+04\n",
       "2      5.506486e+04\n",
       "3      6.969943e+04\n",
       "4      8.605200e+04\n",
       "           ...     \n",
       "219    1.930299e+07\n",
       "220    1.944670e+07\n",
       "221    1.959237e+07\n",
       "222    1.974110e+07\n",
       "223    1.989477e+07\n",
       "Name: tested, Length: 224, dtype: float64"
      ]
     },
     "execution_count": 237,
     "metadata": {},
     "output_type": "execute_result"
    }
   ],
   "source": [
    "CA_test_series"
   ]
  },
  {
   "cell_type": "code",
   "execution_count": 238,
   "metadata": {},
   "outputs": [
    {
     "data": {
      "text/plain": [
       "0      1337.016517\n",
       "1       936.319803\n",
       "2       717.314746\n",
       "3       566.689553\n",
       "4       458.983092\n",
       "          ...     \n",
       "219       1.997021\n",
       "220       1.981892\n",
       "221       1.966882\n",
       "222       1.951687\n",
       "223       1.936263\n",
       "Length: 224, dtype: float64"
      ]
     },
     "execution_count": 238,
     "metadata": {},
     "output_type": "execute_result"
    }
   ],
   "source": [
    "susceptible/CA_test_series"
   ]
  },
  {
   "cell_type": "code",
   "execution_count": null,
   "metadata": {},
   "outputs": [],
   "source": []
  }
 ],
 "metadata": {
  "kernelspec": {
   "display_name": "Python 3",
   "language": "python",
   "name": "python3"
  },
  "language_info": {
   "codemirror_mode": {
    "name": "ipython",
    "version": 3
   },
   "file_extension": ".py",
   "mimetype": "text/x-python",
   "name": "python",
   "nbconvert_exporter": "python",
   "pygments_lexer": "ipython3",
   "version": "3.7.4"
  }
 },
 "nbformat": 4,
 "nbformat_minor": 4
}
